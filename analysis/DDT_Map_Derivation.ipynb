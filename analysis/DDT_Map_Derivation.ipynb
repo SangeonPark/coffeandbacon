{
 "cells": [
  {
   "cell_type": "code",
   "execution_count": 1,
   "metadata": {},
   "outputs": [],
   "source": [
    "from __future__ import print_function, division\n",
    "from collections import defaultdict, OrderedDict\n",
    "import gzip\n",
    "import lz4.frame as lz4f\n",
    "import cloudpickle as cpkl\n",
    "import json\n",
    "import re\n",
    "import os\n",
    "\n",
    "import uproot\n",
    "%matplotlib inline\n",
    "import matplotlib.pyplot as plt\n",
    "import numpy as np\n",
    "\n",
    "from fnal_column_analysis_tools import hist\n",
    "from fnal_column_analysis_tools.hist import plot, export"
   ]
  },
  {
   "cell_type": "code",
   "execution_count": 2,
   "metadata": {},
   "outputs": [
    {
     "name": "stdout",
     "output_type": "stream",
     "text": [
      "3.5.2 (default, Nov 12 2018, 13:43:14) \n",
      "[GCC 5.4.0 20160609]\n"
     ]
    }
   ],
   "source": [
    "import sys\n",
    "print(sys.version)"
   ]
  },
  {
   "cell_type": "code",
   "execution_count": 3,
   "metadata": {},
   "outputs": [],
   "source": [
    "with lz4f.open(\"hists.cpkl.lz4\") as fin:\n",
    "    hists_unmapped = cpkl.load(fin)"
   ]
  },
  {
   "cell_type": "code",
   "execution_count": 4,
   "metadata": {},
   "outputs": [],
   "source": [
    "process = hist.Cat(\"process\", \"Process\", sorting='placement')\n",
    "process_cats = (\"dataset\")\n",
    "\n",
    "process_map = OrderedDict()\n",
    "process_map[\"QCD\"] = [\n",
    "    \"QCD_HT500to700_TuneCP5_13TeV-madgraphMLM-pythia8\",\n",
    "    \"QCD_HT700to1000_TuneCP5_13TeV-madgraphMLM-pythia8\",\n",
    "    \"QCD_HT1500to2000_TuneCP5_13TeV-madgraphMLM-pythia8\",\n",
    "    \"QCD_HT1000to1500_TuneCP5_13TeV-madgraphMLM-pythia8\",\n",
    "    \"QCD_HT2000toInf_TuneCP5_13TeV-madgraphMLM-pythia8\",\n",
    "]\n",
    "\n",
    "hists = {}\n",
    "\n",
    "for key, val in hists_unmapped.items():\n",
    "    if isinstance(val, hist.Hist):\n",
    "        hists[key] = val.group(process, process_cats, process_map)"
   ]
  },
  {
   "cell_type": "code",
   "execution_count": 8,
   "metadata": {},
   "outputs": [
    {
     "name": "stdout",
     "output_type": "stream",
     "text": [
      "[[[0.0000000e+00 4.9466431e-02 4.9692929e-02 ... 9.2277956e-01\n",
      "   1.0000000e+00 1.0000000e+00]\n",
      "  [0.0000000e+00 1.6240858e-05 4.7660800e-05 ... 1.0000000e+00\n",
      "   1.0000000e+00 1.0000000e+00]\n",
      "  [0.0000000e+00 1.5270312e-05 1.5270312e-05 ... 1.0000000e+00\n",
      "   1.0000000e+00 1.0000000e+00]\n",
      "  ...\n",
      "  [0.0000000e+00 0.0000000e+00 0.0000000e+00 ... 1.0000000e+00\n",
      "   1.0000000e+00 1.0000000e+00]\n",
      "  [0.0000000e+00 0.0000000e+00 0.0000000e+00 ... 1.0000000e+00\n",
      "   1.0000000e+00 1.0000000e+00]\n",
      "  [0.0000000e+00 0.0000000e+00 0.0000000e+00 ... 0.0000000e+00\n",
      "   0.0000000e+00 0.0000000e+00]]\n",
      "\n",
      " [[0.0000000e+00 5.7881583e-02 5.8145937e-02 ... 9.7975183e-01\n",
      "   1.0000000e+00 1.0000000e+00]\n",
      "  [0.0000000e+00 0.0000000e+00 0.0000000e+00 ... 1.0000000e+00\n",
      "   1.0000000e+00 1.0000000e+00]\n",
      "  [0.0000000e+00 0.0000000e+00 0.0000000e+00 ... 1.0000000e+00\n",
      "   1.0000000e+00 1.0000000e+00]\n",
      "  ...\n",
      "  [0.0000000e+00 0.0000000e+00 0.0000000e+00 ... 1.0000000e+00\n",
      "   1.0000000e+00 1.0000000e+00]\n",
      "  [0.0000000e+00 0.0000000e+00 0.0000000e+00 ... 1.0000000e+00\n",
      "   1.0000000e+00 1.0000000e+00]\n",
      "  [0.0000000e+00 0.0000000e+00 0.0000000e+00 ... 0.0000000e+00\n",
      "   0.0000000e+00 0.0000000e+00]]\n",
      "\n",
      " [[0.0000000e+00 5.9583932e-02 5.9881520e-02 ... 9.7894841e-01\n",
      "   1.0000000e+00 1.0000000e+00]\n",
      "  [0.0000000e+00 7.9852158e-05 7.9852158e-05 ... 1.0000000e+00\n",
      "   1.0000000e+00 1.0000000e+00]\n",
      "  [0.0000000e+00 0.0000000e+00 0.0000000e+00 ... 1.0000000e+00\n",
      "   1.0000000e+00 1.0000000e+00]\n",
      "  ...\n",
      "  [0.0000000e+00 0.0000000e+00 0.0000000e+00 ... 1.0000000e+00\n",
      "   1.0000000e+00 1.0000000e+00]\n",
      "  [0.0000000e+00 0.0000000e+00 0.0000000e+00 ... 1.0000000e+00\n",
      "   1.0000000e+00 1.0000000e+00]\n",
      "  [0.0000000e+00 0.0000000e+00 0.0000000e+00 ... 0.0000000e+00\n",
      "   0.0000000e+00 0.0000000e+00]]\n",
      "\n",
      " ...\n",
      "\n",
      " [[0.0000000e+00 8.1886210e-02 8.2510360e-02 ... 9.6390706e-01\n",
      "   1.0000000e+00 1.0000000e+00]\n",
      "  [0.0000000e+00 0.0000000e+00 0.0000000e+00 ... 1.0000000e+00\n",
      "   1.0000000e+00 1.0000000e+00]\n",
      "  [0.0000000e+00 0.0000000e+00 0.0000000e+00 ... 1.0000000e+00\n",
      "   1.0000000e+00 1.0000000e+00]\n",
      "  ...\n",
      "  [0.0000000e+00 0.0000000e+00 0.0000000e+00 ... 1.0000000e+00\n",
      "   1.0000000e+00 1.0000000e+00]\n",
      "  [0.0000000e+00 0.0000000e+00 0.0000000e+00 ... 1.0000000e+00\n",
      "   1.0000000e+00 1.0000000e+00]\n",
      "  [0.0000000e+00 0.0000000e+00 0.0000000e+00 ... 0.0000000e+00\n",
      "   0.0000000e+00 0.0000000e+00]]\n",
      "\n",
      " [[0.0000000e+00 8.0235004e-02 8.1105612e-02 ... 9.6096337e-01\n",
      "   1.0000000e+00 1.0000000e+00]\n",
      "  [0.0000000e+00 0.0000000e+00 0.0000000e+00 ... 1.0000000e+00\n",
      "   1.0000000e+00 1.0000000e+00]\n",
      "  [0.0000000e+00 0.0000000e+00 0.0000000e+00 ... 1.0000000e+00\n",
      "   1.0000000e+00 1.0000000e+00]\n",
      "  ...\n",
      "  [0.0000000e+00 0.0000000e+00 0.0000000e+00 ... 1.0000000e+00\n",
      "   1.0000000e+00 1.0000000e+00]\n",
      "  [0.0000000e+00 0.0000000e+00 0.0000000e+00 ... 1.0000000e+00\n",
      "   1.0000000e+00 1.0000000e+00]\n",
      "  [0.0000000e+00 0.0000000e+00 0.0000000e+00 ... 0.0000000e+00\n",
      "   0.0000000e+00 0.0000000e+00]]\n",
      "\n",
      " [[0.0000000e+00 0.0000000e+00 0.0000000e+00 ... 0.0000000e+00\n",
      "   0.0000000e+00 0.0000000e+00]\n",
      "  [0.0000000e+00 0.0000000e+00 0.0000000e+00 ... 0.0000000e+00\n",
      "   0.0000000e+00 0.0000000e+00]\n",
      "  [0.0000000e+00 0.0000000e+00 0.0000000e+00 ... 0.0000000e+00\n",
      "   0.0000000e+00 0.0000000e+00]\n",
      "  ...\n",
      "  [0.0000000e+00 0.0000000e+00 0.0000000e+00 ... 0.0000000e+00\n",
      "   0.0000000e+00 0.0000000e+00]\n",
      "  [0.0000000e+00 0.0000000e+00 0.0000000e+00 ... 0.0000000e+00\n",
      "   0.0000000e+00 0.0000000e+00]\n",
      "  [0.0000000e+00 0.0000000e+00 0.0000000e+00 ... 0.0000000e+00\n",
      "   0.0000000e+00 0.0000000e+00]]]\n"
     ]
    }
   ],
   "source": [
    "histo = hists['ddtmaping_preselection'].sum('AK8Puppijet0_isHadronicV', overflow='all')\n",
    "val_QCD = histo.values(overflow='allnan')[('QCD',)]\n",
    "qcd_maxval_temp = np.cumsum(val_QCD, axis=2)\n",
    "qcd_maxval = qcd_maxval_temp[:,:,-1]\n",
    "\n",
    "norma = qcd_maxval_temp / np.maximum(1e-10,qcd_maxval[:,:,np.newaxis])\n",
    "print(norma)"
   ]
  },
  {
   "cell_type": "code",
   "execution_count": 9,
   "metadata": {},
   "outputs": [
    {
     "name": "stdout",
     "output_type": "stream",
     "text": [
      "<Hist (AK8Puppijet0_pt,ak8jet_rho,AK8Puppijet0_N2sdb1) instance at 0x7f424a34af98>\n",
      "<Hist (AK8Puppijet0_pt,ak8jet_rho) instance at 0x7f424a34ae48>\n"
     ]
    }
   ],
   "source": [
    "hist_y_QCD = histo.sum(\"process\")\n",
    "print(hist_y_QCD)\n",
    "template = hist_y_QCD.sum(\"AK8Puppijet0_N2sdb1\")\n",
    "print(template)\n",
    "hist_y_QCD.clear()\n",
    "hist_y_QCD._sumw = {():norma}"
   ]
  },
  {
   "cell_type": "code",
   "execution_count": 24,
   "metadata": {},
   "outputs": [
    {
     "name": "stdout",
     "output_type": "stream",
     "text": [
      "(103, 55)\n",
      "[<Interval ([0, 0.005)) instance at 0x7f424a341f28>, <Interval ([0.005, 0.01)) instance at 0x7f424a341f60>, <Interval ([0.01, 0.015)) instance at 0x7f424a341f98>, <Interval ([0.015, 0.02)) instance at 0x7f424a341fd0>, <Interval ([0.02, 0.025)) instance at 0x7f424a346048>, <Interval ([0.025, 0.03)) instance at 0x7f424a346080>, <Interval ([0.03, 0.035)) instance at 0x7f424a3460b8>, <Interval ([0.035, 0.04)) instance at 0x7f424a3460f0>, <Interval ([0.04, 0.045)) instance at 0x7f424a346128>, <Interval ([0.045, 0.05)) instance at 0x7f424a346160>, <Interval ([0.05, 0.055)) instance at 0x7f424a346198>, <Interval ([0.055, 0.06)) instance at 0x7f424a3461d0>, <Interval ([0.06, 0.065)) instance at 0x7f424a346208>, <Interval ([0.065, 0.07)) instance at 0x7f424a346240>, <Interval ([0.07, 0.075)) instance at 0x7f424a346278>, <Interval ([0.075, 0.08)) instance at 0x7f424a3462b0>, <Interval ([0.08, 0.085)) instance at 0x7f424a3462e8>, <Interval ([0.085, 0.09)) instance at 0x7f424a346320>, <Interval ([0.09, 0.095)) instance at 0x7f424a346358>, <Interval ([0.095, 0.1)) instance at 0x7f424a346390>, <Interval ([0.1, 0.105)) instance at 0x7f424a3463c8>, <Interval ([0.105, 0.11)) instance at 0x7f424a346400>, <Interval ([0.11, 0.115)) instance at 0x7f424a346438>, <Interval ([0.115, 0.12)) instance at 0x7f424a346470>, <Interval ([0.12, 0.125)) instance at 0x7f424a3464a8>, <Interval ([0.125, 0.13)) instance at 0x7f424a3464e0>, <Interval ([0.13, 0.135)) instance at 0x7f424a346518>, <Interval ([0.135, 0.14)) instance at 0x7f424a346550>, <Interval ([0.14, 0.145)) instance at 0x7f424a346588>, <Interval ([0.145, 0.15)) instance at 0x7f424a3465c0>, <Interval ([0.15, 0.155)) instance at 0x7f424a3465f8>, <Interval ([0.155, 0.16)) instance at 0x7f424a346630>, <Interval ([0.16, 0.165)) instance at 0x7f424a346668>, <Interval ([0.165, 0.17)) instance at 0x7f424a3466a0>, <Interval ([0.17, 0.175)) instance at 0x7f424a3466d8>, <Interval ([0.175, 0.18)) instance at 0x7f424a346710>, <Interval ([0.18, 0.185)) instance at 0x7f424a346748>, <Interval ([0.185, 0.19)) instance at 0x7f424a346780>, <Interval ([0.19, 0.195)) instance at 0x7f424a3467b8>, <Interval ([0.195, 0.2)) instance at 0x7f424a3467f0>, <Interval ([0.2, 0.205)) instance at 0x7f424a346828>, <Interval ([0.205, 0.21)) instance at 0x7f424a346860>, <Interval ([0.21, 0.215)) instance at 0x7f424a346898>, <Interval ([0.215, 0.22)) instance at 0x7f424a3468d0>, <Interval ([0.22, 0.225)) instance at 0x7f424a346908>, <Interval ([0.225, 0.23)) instance at 0x7f424a346940>, <Interval ([0.23, 0.235)) instance at 0x7f424a346978>, <Interval ([0.235, 0.24)) instance at 0x7f424a3469b0>, <Interval ([0.24, 0.245)) instance at 0x7f424a3469e8>, <Interval ([0.245, 0.25)) instance at 0x7f424a346a20>, <Interval ([0.25, 0.255)) instance at 0x7f424a346a58>, <Interval ([0.255, 0.26)) instance at 0x7f424a346a90>, <Interval ([0.26, 0.265)) instance at 0x7f424a346ac8>, <Interval ([0.265, 0.27)) instance at 0x7f424a346b00>, <Interval ([0.27, 0.275)) instance at 0x7f424a346b38>, <Interval ([0.275, 0.28)) instance at 0x7f424a346b70>, <Interval ([0.28, 0.285)) instance at 0x7f424a346ba8>, <Interval ([0.285, 0.29)) instance at 0x7f424a346be0>, <Interval ([0.29, 0.295)) instance at 0x7f424a346c18>, <Interval ([0.295, 0.3)) instance at 0x7f424a346c50>, <Interval ([0.3, 0.305)) instance at 0x7f424a346c88>, <Interval ([0.305, 0.31)) instance at 0x7f424a346cc0>, <Interval ([0.31, 0.315)) instance at 0x7f424a346cf8>, <Interval ([0.315, 0.32)) instance at 0x7f424a346d30>, <Interval ([0.32, 0.325)) instance at 0x7f424a346d68>, <Interval ([0.325, 0.33)) instance at 0x7f424a346da0>, <Interval ([0.33, 0.335)) instance at 0x7f424a346dd8>, <Interval ([0.335, 0.34)) instance at 0x7f424a346e10>, <Interval ([0.34, 0.345)) instance at 0x7f424a346e48>, <Interval ([0.345, 0.35)) instance at 0x7f424a346e80>, <Interval ([0.35, 0.355)) instance at 0x7f424a346eb8>, <Interval ([0.355, 0.36)) instance at 0x7f424a346ef0>, <Interval ([0.36, 0.365)) instance at 0x7f424a346f28>, <Interval ([0.365, 0.37)) instance at 0x7f424a346f60>, <Interval ([0.37, 0.375)) instance at 0x7f424a346f98>, <Interval ([0.375, 0.38)) instance at 0x7f424a346fd0>, <Interval ([0.38, 0.385)) instance at 0x7f424a34a048>, <Interval ([0.385, 0.39)) instance at 0x7f424a34a080>, <Interval ([0.39, 0.395)) instance at 0x7f424a34a0b8>, <Interval ([0.395, 0.4)) instance at 0x7f424a34a0f0>, <Interval ([0.4, 0.405)) instance at 0x7f424a34a128>, <Interval ([0.405, 0.41)) instance at 0x7f424a34a160>, <Interval ([0.41, 0.415)) instance at 0x7f424a34a198>, <Interval ([0.415, 0.42)) instance at 0x7f424a34a1d0>, <Interval ([0.42, 0.425)) instance at 0x7f424a34a208>, <Interval ([0.425, 0.43)) instance at 0x7f424a34a240>, <Interval ([0.43, 0.435)) instance at 0x7f424a34a278>, <Interval ([0.435, 0.44)) instance at 0x7f424a34a2b0>, <Interval ([0.44, 0.445)) instance at 0x7f424a34a2e8>, <Interval ([0.445, 0.45)) instance at 0x7f424a34a320>, <Interval ([0.45, 0.455)) instance at 0x7f424a34a358>, <Interval ([0.455, 0.46)) instance at 0x7f424a34a390>, <Interval ([0.46, 0.465)) instance at 0x7f424a34a3c8>, <Interval ([0.465, 0.47)) instance at 0x7f424a34a400>, <Interval ([0.47, 0.475)) instance at 0x7f424a34a438>, <Interval ([0.475, 0.48)) instance at 0x7f424a34a470>, <Interval ([0.48, 0.485)) instance at 0x7f424a34a4a8>, <Interval ([0.485, 0.49)) instance at 0x7f424a34a4e0>, <Interval ([0.49, 0.495)) instance at 0x7f424a34a518>, <Interval ([0.495, 0.5)) instance at 0x7f424a34a550>]\n",
      "0.275\n",
      "(103, 55)\n"
     ]
    }
   ],
   "source": [
    "import scipy.ndimage as sc\n",
    "res = np.apply_along_axis(lambda norma: norma.searchsorted(0.26), axis = 2, arr = norma)\n",
    "print(res.shape)\n",
    "res[res>100]=0\n",
    "print(hist_y_QCD.identifiers(\"AK8Puppijet0_N2sdb1\"))\n",
    "def bineval(a):\n",
    "    return hist_y_QCD.identifiers(\"AK8Puppijet0_N2sdb1\")[a].lo\n",
    "print(bineval(55))\n",
    "binfunc = np.vectorize(bineval)\n",
    "qmap = binfunc(res)\n",
    "print(qmap.shape)\n",
    "smooth_qmap = sc.filters.gaussian_filter(qmap,1)"
   ]
  },
  {
   "cell_type": "code",
   "execution_count": 29,
   "metadata": {},
   "outputs": [
    {
     "name": "stdout",
     "output_type": "stream",
     "text": [
      "<Hist (AK8Puppijet0_pt,ak8jet_rho) instance at 0x7f424a34ae48>\n",
      "[[0.34  0.335 0.335 ... 0.28  0.275 0.27 ]\n",
      " [0.335 0.335 0.335 ... 0.275 0.275 0.27 ]\n",
      " [0.335 0.33  0.33  ... 0.275 0.27  0.27 ]\n",
      " ...\n",
      " [0.235 0.235 0.23  ... 0.17  0.185 0.185]\n",
      " [0.24  0.205 0.24  ... 0.19  0.185 0.18 ]\n",
      " [0.24  0.24  0.225 ... 0.19  0.18  0.175]]\n"
     ]
    }
   ],
   "source": [
    "template.clear()\n",
    "template._sumw = {():qmap}\n",
    "template.label = 'N2 cut at 26%'\n",
    "\n",
    "values_nonan = template.values()[()]\n",
    "print(template)\n",
    "\n",
    "print(values_nonan)"
   ]
  },
  {
   "cell_type": "code",
   "execution_count": 30,
   "metadata": {},
   "outputs": [
    {
     "data": {
      "image/png": "[encoded data removed]",
      "text/plain": [
       "<Figure size 432x288 with 2 Axes>"
      ]
     },
     "metadata": {
      "needs_background": "light"
     },
     "output_type": "display_data"
    }
   ],
   "source": [
    "fig3, ax3, _ = plot.plot2d(template, xaxis=\"ak8jet_rho\", patch_opts={})\n",
    "\n",
    "fig3.savefig(\"plots/N2DDT_26_2018bits_NoSmoothing.pdf\")\n",
    "fig3.savefig(\"plots/N2DDT_26_2018bits_NoSmoothing.png\")\n",
    "fig3.savefig(\"plots/N2DDT_26_2018bits_NoSmoothing.svg\")"
   ]
  },
  {
   "cell_type": "code",
   "execution_count": null,
   "metadata": {},
   "outputs": [],
   "source": [
    "import ROOT\n",
    "outfile = ROOT.TFile(\"plots/n2ddtmap_2018bits_Gaussian1Sigma.root\",\"recreate\")\n",
    "outfile.cd()\n",
    "print(values_nonan.shape)\n",
    "h1 = ROOT.TH2F(\"h1\",\"h1\",52, -6, -2.1, 50, 0., 1.)\n",
    "for i in range(h1.GetNbinsX()):\n",
    "    for j in range(h1.GetNbinsY()):\n",
    "        print(i,\"i coord\",j,\"j coord\",values_nonan[j][i])\n",
    "        h1.SetBinContent(i+1,j+1,values_nonan[j][i])\n",
    "        print(h1.GetBinContent(i,j))\n",
    "h1.Write()\n",
    "outfile.Close()"
   ]
  }
 ],
 "metadata": {
  "kernelspec": {
   "display_name": "Python 3",
   "language": "python",
   "name": "python3"
  },
  "language_info": {
   "codemirror_mode": {
    "name": "ipython",
    "version": 3
   },
   "file_extension": ".py",
   "mimetype": "text/x-python",
   "name": "python",
   "nbconvert_exporter": "python",
   "pygments_lexer": "ipython3",
   "version": "3.5.2"
  }
 },
 "nbformat": 4,
 "nbformat_minor": 2
}
