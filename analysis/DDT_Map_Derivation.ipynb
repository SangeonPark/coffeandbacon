{
 "cells": [
  {
   "cell_type": "code",
   "execution_count": 1,
   "metadata": {},
   "outputs": [],
   "source": [
    "from __future__ import print_function, division\n",
    "from collections import defaultdict, OrderedDict\n",
    "import gzip\n",
    "import lz4.frame as lz4f\n",
    "import cloudpickle as cpkl\n",
    "import json\n",
    "import re\n",
    "import os\n",
    "\n",
    "import uproot\n",
    "%matplotlib inline\n",
    "import matplotlib.pyplot as plt\n",
    "import numpy as np\n",
    "\n",
    "from fnal_column_analysis_tools import hist\n",
    "from fnal_column_analysis_tools.hist import plot, export"
   ]
  },
  {
   "cell_type": "code",
   "execution_count": 2,
   "metadata": {},
   "outputs": [
    {
     "name": "stdout",
     "output_type": "stream",
     "text": [
      "3.5.2 (default, Nov 12 2018, 13:43:14) \n",
      "[GCC 5.4.0 20160609]\n"
     ]
    }
   ],
   "source": [
    "import sys\n",
    "print(sys.version)"
   ]
  },
  {
   "cell_type": "code",
   "execution_count": 3,
   "metadata": {},
   "outputs": [],
   "source": [
    "with lz4f.open(\"hists_2018QCD.cpkl.lz4\") as fin:\n",
    "    hists_unmapped = cpkl.load(fin)"
   ]
  },
  {
   "cell_type": "code",
   "execution_count": 4,
   "metadata": {},
   "outputs": [
    {
     "name": "stdout",
     "output_type": "stream",
     "text": [
      "dict_items([('sumw', {'QCD_HT1500to2000_TuneCP5_13TeV-madgraphMLM-pythia8': <fnal_column_analysis_tools.processor.accumulator.accumulator object at 0x7fa2a563f780>, 'QCD_HT500to700_TuneCP5_13TeV-madgraphMLM-pythia8': <fnal_column_analysis_tools.processor.accumulator.accumulator object at 0x7fa2d03ee9e8>, 'QCD_HT2000toInf_TuneCP5_13TeV-madgraphMLM-pythia8': <fnal_column_analysis_tools.processor.accumulator.accumulator object at 0x7fa2a178ba20>, 'QCD_HT700to1000_TuneCP5_13TeV-madgraphMLM-pythia8': <fnal_column_analysis_tools.processor.accumulator.accumulator object at 0x7fa2d03eeb00>, 'QCD_HT1000to1500_TuneCP5_13TeV-madgraphMLM-pythia8': <fnal_column_analysis_tools.processor.accumulator.accumulator object at 0x7fa2a178b9b0>}), ('ddtmaping_preselection', <Hist (dataset,AK8Puppijet0_isHadronicV,AK8Puppijet0_pt,ak8jet_rho,AK8Puppijet0_N2sdb1) instance at 0x7fa2a178bd68>)])\n"
     ]
    }
   ],
   "source": [
    "print(hists_unmapped.items())\n"
   ]
  },
  {
   "cell_type": "code",
   "execution_count": 6,
   "metadata": {},
   "outputs": [
    {
     "name": "stdout",
     "output_type": "stream",
     "text": [
      "dict_items([('ddtmaping_preselection', <Hist (process,AK8Puppijet0_isHadronicV,AK8Puppijet0_pt,ak8jet_rho,AK8Puppijet0_N2sdb1) instance at 0x7fa29e60e8d0>)])\n"
     ]
    }
   ],
   "source": [
    "process = hist.Cat(\"process\", \"Process\", sorting='placement')\n",
    "process_cats = \"dataset\"\n",
    "\n",
    "process_map = OrderedDict()\n",
    "process_map[\"QCD\"] = [\n",
    "    \"QCD_HT500to700_TuneCP5_13TeV-madgraphMLM-pythia8\",\n",
    "    \"QCD_HT700to1000_TuneCP5_13TeV-madgraphMLM-pythia8\",\n",
    "    \"QCD_HT1500to2000_TuneCP5_13TeV-madgraphMLM-pythia8\",\n",
    "    \"QCD_HT1000to1500_TuneCP5_13TeV-madgraphMLM-pythia8\",\n",
    "    \"QCD_HT2000toInf_TuneCP5_13TeV-madgraphMLM-pythia8\",\n",
    "]\n",
    "\n",
    "hists = {}\n",
    "\n",
    "for key, val in hists_unmapped.items():\n",
    "    if isinstance(val, hist.Hist):\n",
    "        hists[key] = val.group(process, process_cats, process_map)\n",
    "        \n",
    "print(hists.items())        "
   ]
  },
  {
   "cell_type": "code",
   "execution_count": 5,
   "metadata": {},
   "outputs": [
    {
     "name": "stdout",
     "output_type": "stream",
     "text": [
      "[[[0.0000000e+00 4.8540704e-02 4.8792779e-02 ... 9.2921007e-01\n",
      "   1.0000000e+00 1.0000000e+00]\n",
      "  [0.0000000e+00 6.5658212e-04 6.6291826e-04 ... 1.0000000e+00\n",
      "   1.0000000e+00 1.0000000e+00]\n",
      "  [0.0000000e+00 1.9662883e-05 1.9662883e-05 ... 1.0000000e+00\n",
      "   1.0000000e+00 1.0000000e+00]\n",
      "  ...\n",
      "  [0.0000000e+00 0.0000000e+00 0.0000000e+00 ... 1.0000000e+00\n",
      "   1.0000000e+00 1.0000000e+00]\n",
      "  [0.0000000e+00 0.0000000e+00 0.0000000e+00 ... 1.0000000e+00\n",
      "   1.0000000e+00 1.0000000e+00]\n",
      "  [0.0000000e+00 0.0000000e+00 0.0000000e+00 ... 0.0000000e+00\n",
      "   0.0000000e+00 0.0000000e+00]]\n",
      "\n",
      " [[0.0000000e+00 5.6193911e-02 5.6416385e-02 ... 9.7970307e-01\n",
      "   1.0000000e+00 1.0000000e+00]\n",
      "  [0.0000000e+00 0.0000000e+00 1.1041544e-04 ... 1.0000000e+00\n",
      "   1.0000000e+00 1.0000000e+00]\n",
      "  [0.0000000e+00 0.0000000e+00 0.0000000e+00 ... 1.0000000e+00\n",
      "   1.0000000e+00 1.0000000e+00]\n",
      "  ...\n",
      "  [0.0000000e+00 0.0000000e+00 0.0000000e+00 ... 1.0000000e+00\n",
      "   1.0000000e+00 1.0000000e+00]\n",
      "  [0.0000000e+00 0.0000000e+00 0.0000000e+00 ... 1.0000000e+00\n",
      "   1.0000000e+00 1.0000000e+00]\n",
      "  [0.0000000e+00 0.0000000e+00 0.0000000e+00 ... 0.0000000e+00\n",
      "   0.0000000e+00 0.0000000e+00]]\n",
      "\n",
      " [[0.0000000e+00 5.7020366e-02 5.7325881e-02 ... 9.7949225e-01\n",
      "   1.0000000e+00 1.0000000e+00]\n",
      "  [0.0000000e+00 0.0000000e+00 0.0000000e+00 ... 1.0000000e+00\n",
      "   1.0000000e+00 1.0000000e+00]\n",
      "  [0.0000000e+00 0.0000000e+00 0.0000000e+00 ... 1.0000000e+00\n",
      "   1.0000000e+00 1.0000000e+00]\n",
      "  ...\n",
      "  [0.0000000e+00 0.0000000e+00 0.0000000e+00 ... 1.0000000e+00\n",
      "   1.0000000e+00 1.0000000e+00]\n",
      "  [0.0000000e+00 0.0000000e+00 0.0000000e+00 ... 1.0000000e+00\n",
      "   1.0000000e+00 1.0000000e+00]\n",
      "  [0.0000000e+00 0.0000000e+00 0.0000000e+00 ... 0.0000000e+00\n",
      "   0.0000000e+00 0.0000000e+00]]\n",
      "\n",
      " ...\n",
      "\n",
      " [[0.0000000e+00 7.7666216e-02 7.8326121e-02 ... 9.6493524e-01\n",
      "   1.0000000e+00 1.0000000e+00]\n",
      "  [0.0000000e+00 0.0000000e+00 0.0000000e+00 ... 1.0000000e+00\n",
      "   1.0000000e+00 1.0000000e+00]\n",
      "  [0.0000000e+00 0.0000000e+00 0.0000000e+00 ... 1.0000000e+00\n",
      "   1.0000000e+00 1.0000000e+00]\n",
      "  ...\n",
      "  [0.0000000e+00 0.0000000e+00 0.0000000e+00 ... 1.0000000e+00\n",
      "   1.0000000e+00 1.0000000e+00]\n",
      "  [0.0000000e+00 0.0000000e+00 0.0000000e+00 ... 1.0000000e+00\n",
      "   1.0000000e+00 1.0000000e+00]\n",
      "  [0.0000000e+00 0.0000000e+00 0.0000000e+00 ... 0.0000000e+00\n",
      "   0.0000000e+00 0.0000000e+00]]\n",
      "\n",
      " [[0.0000000e+00 7.5237058e-02 7.6034360e-02 ... 9.6283221e-01\n",
      "   1.0000000e+00 1.0000000e+00]\n",
      "  [0.0000000e+00 0.0000000e+00 0.0000000e+00 ... 1.0000000e+00\n",
      "   1.0000000e+00 1.0000000e+00]\n",
      "  [0.0000000e+00 0.0000000e+00 0.0000000e+00 ... 1.0000000e+00\n",
      "   1.0000000e+00 1.0000000e+00]\n",
      "  ...\n",
      "  [0.0000000e+00 0.0000000e+00 0.0000000e+00 ... 1.0000000e+00\n",
      "   1.0000000e+00 1.0000000e+00]\n",
      "  [0.0000000e+00 0.0000000e+00 0.0000000e+00 ... 1.0000000e+00\n",
      "   1.0000000e+00 1.0000000e+00]\n",
      "  [0.0000000e+00 0.0000000e+00 0.0000000e+00 ... 0.0000000e+00\n",
      "   0.0000000e+00 0.0000000e+00]]\n",
      "\n",
      " [[0.0000000e+00 0.0000000e+00 0.0000000e+00 ... 0.0000000e+00\n",
      "   0.0000000e+00 0.0000000e+00]\n",
      "  [0.0000000e+00 0.0000000e+00 0.0000000e+00 ... 0.0000000e+00\n",
      "   0.0000000e+00 0.0000000e+00]\n",
      "  [0.0000000e+00 0.0000000e+00 0.0000000e+00 ... 0.0000000e+00\n",
      "   0.0000000e+00 0.0000000e+00]\n",
      "  ...\n",
      "  [0.0000000e+00 0.0000000e+00 0.0000000e+00 ... 0.0000000e+00\n",
      "   0.0000000e+00 0.0000000e+00]\n",
      "  [0.0000000e+00 0.0000000e+00 0.0000000e+00 ... 0.0000000e+00\n",
      "   0.0000000e+00 0.0000000e+00]\n",
      "  [0.0000000e+00 0.0000000e+00 0.0000000e+00 ... 0.0000000e+00\n",
      "   0.0000000e+00 0.0000000e+00]]]\n"
     ]
    }
   ],
   "source": [
    "histo = hists['ddtmaping_preselection'].sum('AK8Puppijet0_isHadronicV', overflow='all')\n",
    "val_QCD = histo.values(overflow='allnan')[('QCD',)]\n",
    "qcd_maxval_temp = np.cumsum(val_QCD, axis=2)\n",
    "qcd_maxval = qcd_maxval_temp[:,:,-1]\n",
    "\n",
    "norma = qcd_maxval_temp / np.maximum(1e-10,qcd_maxval[:,:,np.newaxis])\n",
    "print(norma)"
   ]
  },
  {
   "cell_type": "code",
   "execution_count": 6,
   "metadata": {},
   "outputs": [
    {
     "name": "stdout",
     "output_type": "stream",
     "text": [
      "<Hist (AK8Puppijet0_pt,ak8jet_rho,AK8Puppijet0_N2sdb1) instance at 0x7f64a7252b00>\n",
      "<Hist (AK8Puppijet0_pt,ak8jet_rho) instance at 0x7f64a7252b38>\n"
     ]
    }
   ],
   "source": [
    "hist_y_QCD = histo.sum(\"process\")\n",
    "print(hist_y_QCD)\n",
    "template = hist_y_QCD.sum(\"AK8Puppijet0_N2sdb1\")\n",
    "print(template)\n",
    "hist_y_QCD.clear()\n",
    "hist_y_QCD._sumw = {():norma}"
   ]
  },
  {
   "cell_type": "code",
   "execution_count": 7,
   "metadata": {},
   "outputs": [
    {
     "name": "stdout",
     "output_type": "stream",
     "text": [
      "(103, 55)\n",
      "[<Interval ([0, 0.005)) instance at 0x7f64a7249fd0>, <Interval ([0.005, 0.01)) instance at 0x7f64a724d048>, <Interval ([0.01, 0.015)) instance at 0x7f64a724d080>, <Interval ([0.015, 0.02)) instance at 0x7f64a724d0b8>, <Interval ([0.02, 0.025)) instance at 0x7f64a724d0f0>, <Interval ([0.025, 0.03)) instance at 0x7f64a724d128>, <Interval ([0.03, 0.035)) instance at 0x7f64a724d160>, <Interval ([0.035, 0.04)) instance at 0x7f64a724d198>, <Interval ([0.04, 0.045)) instance at 0x7f64a724d1d0>, <Interval ([0.045, 0.05)) instance at 0x7f64a724d208>, <Interval ([0.05, 0.055)) instance at 0x7f64a724d240>, <Interval ([0.055, 0.06)) instance at 0x7f64a724d278>, <Interval ([0.06, 0.065)) instance at 0x7f64a724d2b0>, <Interval ([0.065, 0.07)) instance at 0x7f64a724d2e8>, <Interval ([0.07, 0.075)) instance at 0x7f64a724d320>, <Interval ([0.075, 0.08)) instance at 0x7f64a724d358>, <Interval ([0.08, 0.085)) instance at 0x7f64a724d390>, <Interval ([0.085, 0.09)) instance at 0x7f64a724d3c8>, <Interval ([0.09, 0.095)) instance at 0x7f64a724d400>, <Interval ([0.095, 0.1)) instance at 0x7f64a724d438>, <Interval ([0.1, 0.105)) instance at 0x7f64a724d470>, <Interval ([0.105, 0.11)) instance at 0x7f64a724d4a8>, <Interval ([0.11, 0.115)) instance at 0x7f64a724d4e0>, <Interval ([0.115, 0.12)) instance at 0x7f64a724d518>, <Interval ([0.12, 0.125)) instance at 0x7f64a724d550>, <Interval ([0.125, 0.13)) instance at 0x7f64a724d588>, <Interval ([0.13, 0.135)) instance at 0x7f64a724d5c0>, <Interval ([0.135, 0.14)) instance at 0x7f64a724d5f8>, <Interval ([0.14, 0.145)) instance at 0x7f64a724d630>, <Interval ([0.145, 0.15)) instance at 0x7f64a724d668>, <Interval ([0.15, 0.155)) instance at 0x7f64a724d6a0>, <Interval ([0.155, 0.16)) instance at 0x7f64a724d6d8>, <Interval ([0.16, 0.165)) instance at 0x7f64a724d710>, <Interval ([0.165, 0.17)) instance at 0x7f64a724d748>, <Interval ([0.17, 0.175)) instance at 0x7f64a724d780>, <Interval ([0.175, 0.18)) instance at 0x7f64a724d7b8>, <Interval ([0.18, 0.185)) instance at 0x7f64a724d7f0>, <Interval ([0.185, 0.19)) instance at 0x7f64a724d828>, <Interval ([0.19, 0.195)) instance at 0x7f64a724d860>, <Interval ([0.195, 0.2)) instance at 0x7f64a724d898>, <Interval ([0.2, 0.205)) instance at 0x7f64a724d8d0>, <Interval ([0.205, 0.21)) instance at 0x7f64a724d908>, <Interval ([0.21, 0.215)) instance at 0x7f64a724d940>, <Interval ([0.215, 0.22)) instance at 0x7f64a724d978>, <Interval ([0.22, 0.225)) instance at 0x7f64a724d9b0>, <Interval ([0.225, 0.23)) instance at 0x7f64a724d9e8>, <Interval ([0.23, 0.235)) instance at 0x7f64a724da20>, <Interval ([0.235, 0.24)) instance at 0x7f64a724da58>, <Interval ([0.24, 0.245)) instance at 0x7f64a724da90>, <Interval ([0.245, 0.25)) instance at 0x7f64a724dac8>, <Interval ([0.25, 0.255)) instance at 0x7f64a724db00>, <Interval ([0.255, 0.26)) instance at 0x7f64a724db38>, <Interval ([0.26, 0.265)) instance at 0x7f64a724db70>, <Interval ([0.265, 0.27)) instance at 0x7f64a724dba8>, <Interval ([0.27, 0.275)) instance at 0x7f64a724dbe0>, <Interval ([0.275, 0.28)) instance at 0x7f64a724dc18>, <Interval ([0.28, 0.285)) instance at 0x7f64a724dc50>, <Interval ([0.285, 0.29)) instance at 0x7f64a724dc88>, <Interval ([0.29, 0.295)) instance at 0x7f64a724dcc0>, <Interval ([0.295, 0.3)) instance at 0x7f64a724dcf8>, <Interval ([0.3, 0.305)) instance at 0x7f64a724dd30>, <Interval ([0.305, 0.31)) instance at 0x7f64a724dd68>, <Interval ([0.31, 0.315)) instance at 0x7f64a724dda0>, <Interval ([0.315, 0.32)) instance at 0x7f64a724ddd8>, <Interval ([0.32, 0.325)) instance at 0x7f64a724de10>, <Interval ([0.325, 0.33)) instance at 0x7f64a724de48>, <Interval ([0.33, 0.335)) instance at 0x7f64a724de80>, <Interval ([0.335, 0.34)) instance at 0x7f64a724deb8>, <Interval ([0.34, 0.345)) instance at 0x7f64a724def0>, <Interval ([0.345, 0.35)) instance at 0x7f64a724df28>, <Interval ([0.35, 0.355)) instance at 0x7f64a724df60>, <Interval ([0.355, 0.36)) instance at 0x7f64a724df98>, <Interval ([0.36, 0.365)) instance at 0x7f64a724dfd0>, <Interval ([0.365, 0.37)) instance at 0x7f64a7252048>, <Interval ([0.37, 0.375)) instance at 0x7f64a7252080>, <Interval ([0.375, 0.38)) instance at 0x7f64a72520b8>, <Interval ([0.38, 0.385)) instance at 0x7f64a72520f0>, <Interval ([0.385, 0.39)) instance at 0x7f64a7252128>, <Interval ([0.39, 0.395)) instance at 0x7f64a7252160>, <Interval ([0.395, 0.4)) instance at 0x7f64a7252198>, <Interval ([0.4, 0.405)) instance at 0x7f64a72521d0>, <Interval ([0.405, 0.41)) instance at 0x7f64a7252208>, <Interval ([0.41, 0.415)) instance at 0x7f64a7252240>, <Interval ([0.415, 0.42)) instance at 0x7f64a7252278>, <Interval ([0.42, 0.425)) instance at 0x7f64a72522b0>, <Interval ([0.425, 0.43)) instance at 0x7f64a72522e8>, <Interval ([0.43, 0.435)) instance at 0x7f64a7252320>, <Interval ([0.435, 0.44)) instance at 0x7f64a7252358>, <Interval ([0.44, 0.445)) instance at 0x7f64a7252390>, <Interval ([0.445, 0.45)) instance at 0x7f64a72523c8>, <Interval ([0.45, 0.455)) instance at 0x7f64a7252400>, <Interval ([0.455, 0.46)) instance at 0x7f64a7252438>, <Interval ([0.46, 0.465)) instance at 0x7f64a7252470>, <Interval ([0.465, 0.47)) instance at 0x7f64a72524a8>, <Interval ([0.47, 0.475)) instance at 0x7f64a72524e0>, <Interval ([0.475, 0.48)) instance at 0x7f64a7252518>, <Interval ([0.48, 0.485)) instance at 0x7f64a7252550>, <Interval ([0.485, 0.49)) instance at 0x7f64a7252588>, <Interval ([0.49, 0.495)) instance at 0x7f64a72525c0>, <Interval ([0.495, 0.5)) instance at 0x7f64a72525f8>]\n",
      "0.275\n",
      "(103, 55)\n"
     ]
    }
   ],
   "source": [
    "import scipy.ndimage as sc\n",
    "res = np.apply_along_axis(lambda norma: norma.searchsorted(0.26), axis = 2, arr = norma)\n",
    "print(res.shape)\n",
    "res[res>100]=0\n",
    "print(hist_y_QCD.identifiers(\"AK8Puppijet0_N2sdb1\"))\n",
    "def bineval(a):\n",
    "    return hist_y_QCD.identifiers(\"AK8Puppijet0_N2sdb1\")[a].lo\n",
    "print(bineval(55))\n",
    "binfunc = np.vectorize(bineval)\n",
    "qmap = binfunc(res)\n",
    "print(qmap.shape)\n",
    "smooth_qmap = sc.filters.gaussian_filter(qmap,1)"
   ]
  },
  {
   "cell_type": "code",
   "execution_count": 8,
   "metadata": {},
   "outputs": [
    {
     "name": "stdout",
     "output_type": "stream",
     "text": [
      "<Hist (AK8Puppijet0_pt,ak8jet_rho) instance at 0x7f64a7252b38>\n",
      "[[0.30946268 0.32761681 0.33172148 ... 0.28968517 0.28586817 0.26920454]\n",
      " [0.30611105 0.32429537 0.32831577 ... 0.28527384 0.28138003 0.2649216 ]\n",
      " [0.30374008 0.32200517 0.326278   ... 0.28154127 0.27778591 0.26152176]\n",
      " ...\n",
      " [0.21313664 0.22952074 0.23207208 ... 0.18421741 0.18102255 0.17015341]\n",
      " [0.21012607 0.2261419  0.22963983 ... 0.17805699 0.17561906 0.16538448]\n",
      " [0.1963503  0.21152624 0.21562893 ... 0.16701091 0.16321363 0.15289368]]\n"
     ]
    }
   ],
   "source": [
    "template.clear()\n",
    "template._sumw = {():smooth_qmap}\n",
    "template.label = 'N2 cut at 26%'\n",
    "\n",
    "values_nonan = template.values()[()]\n",
    "print(template)\n",
    "\n",
    "print(values_nonan)"
   ]
  },
  {
   "cell_type": "code",
   "execution_count": 10,
   "metadata": {},
   "outputs": [
    {
     "data": {
      "image/png": "[encoded data removed]",
      "text/plain": [
       "<Figure size 432x288 with 2 Axes>"
      ]
     },
     "metadata": {
      "needs_background": "light"
     },
     "output_type": "display_data"
    }
   ],
   "source": [
    "fig3, ax3, _ = plot.plot2d(template, xaxis=\"ak8jet_rho\", patch_opts={})\n",
    "\n",
    "fig3.savefig(\"plots/N2DDT_26_2018bits_GaussianSmoothing1Sigma_CorrectVersion.pdf\")\n",
    "fig3.savefig(\"plots/N2DDT_26_2018bits_GaussianSmoothing1Sigma_CorrectVersion.png\")\n",
    "fig3.savefig(\"plots/N2DDT_26_2018bits_GaussianSmoothing1Sigma_CorrectVersion.svg\")"
   ]
  },
  {
   "cell_type": "code",
   "execution_count": 11,
   "metadata": {},
   "outputs": [
    {
     "name": "stdout",
     "output_type": "stream",
     "text": [
      "Welcome to JupyROOT 6.16/00\n",
      "(100, 52)\n"
     ]
    }
   ],
   "source": [
    "import ROOT\n",
    "outfile = ROOT.TFile(\"plots/n2ddtmap_2018bits_GaussianSmoothing1Sigma_CorrectVersion.root\",\"recreate\")\n",
    "outfile.cd()\n",
    "print(values_nonan.shape)\n",
    "h1 = ROOT.TH2F(\"h1\",\"h1\",52, -6, -2.1, 100, 300, 1300)\n",
    "for i in range(h1.GetNbinsX()):\n",
    "    for j in range(h1.GetNbinsY()):\n",
    "        h1.SetBinContent(i+1,j+1,values_nonan[j][i])\n",
    "h1.Write()\n",
    "outfile.Close()"
   ]
  },
  {
   "cell_type": "code",
   "execution_count": null,
   "metadata": {},
   "outputs": [],
   "source": []
  }
 ],
 "metadata": {
  "kernelspec": {
   "display_name": "Python 3",
   "language": "python",
   "name": "python3"
  },
  "language_info": {
   "codemirror_mode": {
    "name": "ipython",
    "version": 3
   },
   "file_extension": ".py",
   "mimetype": "text/x-python",
   "name": "python",
   "nbconvert_exporter": "python",
   "pygments_lexer": "ipython3",
   "version": "3.5.2"
  }
 },
 "nbformat": 4,
 "nbformat_minor": 2
}
