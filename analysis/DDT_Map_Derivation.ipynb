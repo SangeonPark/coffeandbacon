{
 "cells": [
  {
   "cell_type": "code",
   "execution_count": null,
   "metadata": {},
   "outputs": [],
   "source": [
    "from __future__ import print_function, division\n",
    "from collections import defaultdict, OrderedDict\n",
    "import gzip\n",
    "import lz4.frame as lz4f\n",
    "import cloudpickle as cpkl\n",
    "import json\n",
    "import re\n",
    "import os\n",
    "\n",
    "import uproot\n",
    "%matplotlib inline\n",
    "import matplotlib.pyplot as plt\n",
    "import numpy as np\n",
    "\n",
    "from fnal_column_analysis_tools import hist\n",
    "from fnal_column_analysis_tools.hist import plot, export"
   ]
  },
  {
   "cell_type": "code",
   "execution_count": null,
   "metadata": {},
   "outputs": [],
   "source": [
    "import sys\n",
    "print(sys.version)"
   ]
  },
  {
   "cell_type": "code",
   "execution_count": null,
   "metadata": {},
   "outputs": [],
   "source": [
    "with lz4f.open(\"hists.cpkl.lz4\") as fin:\n",
    "    hists_unmapped = cpkl.load(fin)"
   ]
  },
  {
   "cell_type": "code",
   "execution_count": null,
   "metadata": {},
   "outputs": [],
   "source": [
    "process = hist.Cat(\"process\", \"Process\", sorting='placement')\n",
    "process_cats = (\"dataset\")\n",
    "\n",
    "process_map = OrderedDict()\n",
    "process_map[\"QCD\"] = [\n",
    "    \"QCD_HT500to700_TuneCP5_13TeV-madgraphMLM-pythia8\",\n",
    "    \"QCD_HT700to1000_TuneCP5_13TeV-madgraphMLM-pythia8\",\n",
    "    \"QCD_HT1500to2000_TuneCP5_13TeV-madgraphMLM-pythia8\",\n",
    "    \"QCD_HT1000to1500_TuneCP5_13TeV-madgraphMLM-pythia8\",\n",
    "    \"QCD_HT2000toInf_TuneCP5_13TeV-madgraphMLM-pythia8\",\n",
    "]\n",
    "\n",
    "hists = {}\n",
    "\n",
    "for key, val in hists_unmapped.items():\n",
    "    if isinstance(val, hist.Hist):\n",
    "        hists[key] = val.group(process, process_cats, process_map)"
   ]
  },
  {
   "cell_type": "code",
   "execution_count": null,
   "metadata": {},
   "outputs": [],
   "source": [
    "histo = hists['ddtmaping_preselection'].sum('AK8Puppijet0_isHadronicV', overflow='all')\n",
    "val_QCD = histo.values(overflow='allnan')[('QCD',)]\n",
    "qcd_maxval_temp = np.cumsum(val_QCD, axis=2)\n",
    "qcd_maxval = qcd_maxval_temp[:,:,-1]\n",
    "\n",
    "norma = qcd_maxval_temp / np.maximum(1e-10,qcd_maxval[:,:,np.newaxis])\n",
    "print(norma)"
   ]
  },
  {
   "cell_type": "code",
   "execution_count": null,
   "metadata": {},
   "outputs": [],
   "source": [
    "hist_y_QCD = histo.sum(\"process\")\n",
    "print(hist_y_QCD)\n",
    "template = hist_y_QCD.sum(\"AK8Puppijet0_N2sdb1\")\n",
    "print(template)\n",
    "hist_y_QCD.clear()\n",
    "hist_y_QCD._sumw = {():norma}"
   ]
  },
  {
   "cell_type": "code",
   "execution_count": null,
   "metadata": {},
   "outputs": [],
   "source": [
    "import scipy.ndimage as sc\n",
    "res = np.apply_along_axis(lambda norma: norma.searchsorted(0.26), axis = 2, arr = norma)\n",
    "print(res.shape)\n",
    "res[res>100]=0\n",
    "print(hist_y_QCD.identifiers(\"AK8Puppijet0_N2sdb1\"))\n",
    "def bineval(a):\n",
    "    return hist_y_QCD.identifiers(\"AK8Puppijet0_N2sdb1\")[a].lo\n",
    "print(bineval(55))\n",
    "binfunc = np.vectorize(bineval)\n",
    "qmap = binfunc(res)\n",
    "print(qmap.shape)\n",
    "smooth_qmap = sc.filters.gaussian_filter(qmap,1)"
   ]
  },
  {
   "cell_type": "code",
   "execution_count": null,
   "metadata": {},
   "outputs": [],
   "source": [
    "template.clear()\n",
    "template._sumw = {():smooth_qmap}\n",
    "template.label = 'N2 cut at 26%'\n",
    "\n",
    "values_nonan = template.values()[()]\n",
    "print(template)\n",
    "\n",
    "print(values_nonan)"
   ]
  },
  {
   "cell_type": "code",
   "execution_count": null,
   "metadata": {},
   "outputs": [],
   "source": [
    "fig3, ax3, _ = plot.plot2d(template, xaxis=\"ak8jet_rho\", patch_opts={})\n",
    "\n",
    "fig3.savefig(\"plots/N2DDT_26_2018bits_NoSmoothing.pdf\")\n",
    "fig3.savefig(\"plots/N2DDT_26_2018bits_NoSmoothing.png\")\n",
    "fig3.savefig(\"plots/N2DDT_26_2018bits_NoSmoothing.svg\")"
   ]
  },
  {
   "cell_type": "code",
   "execution_count": null,
   "metadata": {},
   "outputs": [],
   "source": [
    "import ROOT\n",
    "outfile = ROOT.TFile(\"plots/n2ddtmap_2018bits_Gaussian1Sigma.root\",\"recreate\")\n",
    "outfile.cd()\n",
    "print(values_nonan.shape)\n",
    "h1 = ROOT.TH2F(\"h1\",\"h1\",52, -6, -2.1, 100, 300, 1300)\n",
    "for i in range(h1.GetNbinsX()):\n",
    "    for j in range(h1.GetNbinsY()):\n",
    "        h1.SetBinContent(i+1,j+1,values_nonan[j][i])\n",
    "h1.Write()\n",
    "outfile.Close()"
   ]
  },
  {
   "cell_type": "code",
   "execution_count": null,
   "metadata": {},
   "outputs": [],
   "source": []
  }
 ],
 "metadata": {
  "kernelspec": {
   "display_name": "Python 3",
   "language": "python",
   "name": "python3"
  },
  "language_info": {
   "codemirror_mode": {
    "name": "ipython",
    "version": 3
   },
   "file_extension": ".py",
   "mimetype": "text/x-python",
   "name": "python",
   "nbconvert_exporter": "python",
   "pygments_lexer": "ipython3",
   "version": "3.5.2"
  }
 },
 "nbformat": 4,
 "nbformat_minor": 2
}
