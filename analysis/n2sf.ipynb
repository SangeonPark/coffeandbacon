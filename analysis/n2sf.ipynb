{
 "cells": [
  {
   "cell_type": "code",
   "execution_count": 1,
   "metadata": {},
   "outputs": [],
   "source": [
    "from __future__ import print_function, division\n",
    "from collections import defaultdict, OrderedDict\n",
    "import gzip\n",
    "import lz4.frame as lz4f\n",
    "import cloudpickle as cpkl\n",
    "import json\n",
    "import re\n",
    "import os\n",
    "\n",
    "import uproot\n",
    "%matplotlib inline\n",
    "import matplotlib.pyplot as plt\n",
    "import numpy as np\n",
    "\n",
    "from fnal_column_analysis_tools import hist\n",
    "from fnal_column_analysis_tools.hist import plot, export"
   ]
  },
  {
   "cell_type": "code",
   "execution_count": 2,
   "metadata": {},
   "outputs": [
    {
     "name": "stdout",
     "output_type": "stream",
     "text": [
      "3.5.2 (default, Nov 12 2018, 13:43:14) \n",
      "[GCC 5.4.0 20160609]\n"
     ]
    }
   ],
   "source": [
    "import sys\n",
    "print(sys.version)"
   ]
  },
  {
   "cell_type": "code",
   "execution_count": 3,
   "metadata": {},
   "outputs": [],
   "source": [
    "with lz4f.open(\"hists.cpkl.lz4\") as fin:\n",
    "    hists_unmapped = cpkl.load(fin)"
   ]
  },
  {
   "cell_type": "code",
   "execution_count": 4,
   "metadata": {},
   "outputs": [
    {
     "name": "stdout",
     "output_type": "stream",
     "text": [
      "dict_items([('nminus1_n2ddtPass_signalregion', <Hist (dataset,AK8Puppijet0_isHadronicV,AK8Puppijet0_msd,AK8Puppijet0_deepdoubleb,ak8jet_n2ddt) instance at 0x7fceb59f8978>), ('templates_muoncontrol', <Hist (dataset,AK8Puppijet0_isHadronicV,systematic,AK8Puppijet0_pt,AK8Puppijet0_msd,AK8Puppijet0_deepdoubleb) instance at 0x7fcebcb4ceb8>), ('opposite_ak8_msd_signalregion', <Hist (dataset,AK8Puppijet0_isHadronicV,AK8Puppijet0_pt,AK8Puppijet0_msd,opposite_ak8_msd) instance at 0x7fceb59d5780>), ('templates_hCCsignalregion', <Hist (dataset,AK8Puppijet0_isHadronicV,systematic,AK8Puppijet0_pt,AK8Puppijet0_msd,AK8Puppijet0_deepdoublec) instance at 0x7fcebe770ac8>), ('opposite_ak8_tau32_signalregion', <Hist (dataset,AK8Puppijet0_isHadronicV,AK8Puppijet0_pt,AK8Puppijet0_msd,opposite_ak8_tau32) instance at 0x7fceb59cd128>), ('nminus1_pfmet_signalregion', <Hist (dataset,AK8Puppijet0_isHadronicV,AK8Puppijet0_pt,AK8Puppijet0_msd,AK8Puppijet0_deepdoubleb,pfmet) instance at 0x7fceb59f1320>), ('muoneta_muoncontrol', <Hist (dataset,AK8Puppijet0_isHadronicV,vmuoLoose0_eta) instance at 0x7fceb5a15358>), ('tagtensor_signalregion', <Hist (dataset,AK8Puppijet0_isHadronicV,AK8Puppijet0_pt,AK8Puppijet0_msd,AK8Puppijet0_deepdoubleb,AK8Puppijet0_deepdoublec,AK8Puppijet0_deepdoublecvb) instance at 0x7fceb5a34b00>), ('sumw', {'DYJetsToLL_M_50_HT_2500toInf_TuneCP5_13TeV': <fnal_column_analysis_tools.processor.accumulator.accumulator object at 0x7fceb5a58470>, 'WplusH_HToBB_WToQQ_M125_13TeV_powheg_pythia8': <fnal_column_analysis_tools.processor.accumulator.accumulator object at 0x7fceb8dc6f98>, 'ggZH_HToCC_ZToQQ_M125_13TeV_powheg_pythia8': <fnal_column_analysis_tools.processor.accumulator.accumulator object at 0x7fceb5a5def0>, 'ST_t-channel_antitop_4f_inclusiveDecays_TuneCP5_13TeV-powhegV2-madspin-pythia8': <fnal_column_analysis_tools.processor.accumulator.accumulator object at 0x7fceb8dc6be0>, 'WJetsToLNu_HT-600To800_TuneCP5_13TeV-madgraphMLM-pythia8': <fnal_column_analysis_tools.processor.accumulator.accumulator object at 0x7fceb5dccda0>, 'DYJetsToLL_M_50_HT_600to800_TuneCP5_13TeV': <fnal_column_analysis_tools.processor.accumulator.accumulator object at 0x7fceb5a54320>, 'QCD_HT1000to1500_TuneCP5_13TeV-madgraphMLM-pythia8': <fnal_column_analysis_tools.processor.accumulator.accumulator object at 0x7fceb5a58080>, 'WJetsToLNu_HT-200To400_TuneCP5_13TeV-madgraphMLM-pythia8': <fnal_column_analysis_tools.processor.accumulator.accumulator object at 0x7fceb5a5d320>, 'WJetsToLNu_HT-1200To2500_TuneCP5_13TeV-madgraphMLM-pythia8': <fnal_column_analysis_tools.processor.accumulator.accumulator object at 0x7fceb8dc6f28>, 'ttHTobb_M125_TuneCP5_13TeV_powheg_pythia8': <fnal_column_analysis_tools.processor.accumulator.accumulator object at 0x7fceb5d9e780>, 'GluGluHToBB_M125_LHEHpT_250_Inf_13TeV_amcatnloFXFX_pythia8': <fnal_column_analysis_tools.processor.accumulator.accumulator object at 0x7fcee83978d0>, 'WJetsToQQ_HT600to800_qc19_3j_TuneCP5_13TeV': <fnal_column_analysis_tools.processor.accumulator.accumulator object at 0x7fceb5a58710>, 'TTToHadronic_TuneCP5_13TeV_powheg_pythia8': <fnal_column_analysis_tools.processor.accumulator.accumulator object at 0x7fceb5a54080>, 'VBFHToBB_M_125_13TeV_powheg_pythia8_weightfix': <fnal_column_analysis_tools.processor.accumulator.accumulator object at 0x7fceb5dc0438>, 'WW_TuneCP5_13TeV-pythia8': <fnal_column_analysis_tools.processor.accumulator.accumulator object at 0x7fceb5a549b0>, 'ST_tW_top_5f_inclusiveDecays_TuneCP5_13TeV-powheg-pythia8': <fnal_column_analysis_tools.processor.accumulator.accumulator object at 0x7fceb5a54ef0>, 'WplusH_HToCC_WToLNu_M125_13TeV_powheg_pythia8': <fnal_column_analysis_tools.processor.accumulator.accumulator object at 0x7fceb5a5db00>, 'WJetsToQQ_HT400to600_qc19_3j_TuneCP5_13TeV': <fnal_column_analysis_tools.processor.accumulator.accumulator object at 0x7fceb5a54860>, 'ZH_HToBB_ZToNuNu_M125_13TeV_powheg_pythia8': <fnal_column_analysis_tools.processor.accumulator.accumulator object at 0x7fceb5a54da0>, 'QCD_HT2000toInf_TuneCP5_13TeV-madgraphMLM-pythia8': <fnal_column_analysis_tools.processor.accumulator.accumulator object at 0x7fceb5a589b0>, 'WZ_TuneCP5_13TeV-pythia8': <fnal_column_analysis_tools.processor.accumulator.accumulator object at 0x7fceb5a54710>, 'QCD_HT1500to2000_TuneCP5_13TeV-madgraphMLM-pythia8': <fnal_column_analysis_tools.processor.accumulator.accumulator object at 0x7fceb5a5d470>, 'TTTo2L2Nu_TuneCP5_13TeV_powheg_pythia8': <fnal_column_analysis_tools.processor.accumulator.accumulator object at 0x7fceb5a58c50>, 'GluGluHToCC_M125_LHEHpT_250_Inf_13TeV_amcatnloFXFX_pythia8': <fnal_column_analysis_tools.processor.accumulator.accumulator object at 0x7fceb5a541d0>, 'DYJetsToLL_M_50_HT_800to1200_TuneCP5_13TeV': <fnal_column_analysis_tools.processor.accumulator.accumulator object at 0x7fceb5a58320>, 'ZZ_TuneCP5_13TeV-pythia8': <fnal_column_analysis_tools.processor.accumulator.accumulator object at 0x7fceb5a58ef0>, 'ZH_HToCC_ZToQQ_M125_13TeV_powheg_pythia8': <fnal_column_analysis_tools.processor.accumulator.accumulator object at 0x7fceb5a5d9b0>, 'GluGluHToBB_M-125_13TeV_powheg_MINLO_NNLOPS_pythia8': <fnal_column_analysis_tools.processor.accumulator.accumulator object at 0x7fceb5dcc9b0>, 'GluGluHToBB_M125_13TeV_powheg_pythia8': <fnal_column_analysis_tools.processor.accumulator.accumulator object at 0x7fcec19a7f98>, 'TTToSemiLeptonic_TuneCP5_13TeV_powheg_pythia8': <fnal_column_analysis_tools.processor.accumulator.accumulator object at 0x7fceb5dccb00>, 'ST_t-channel_top_4f_inclusiveDecays_TuneCP5_13TeV-powhegV2-madspin-pythia8': <fnal_column_analysis_tools.processor.accumulator.accumulator object at 0x7fceb5a58b00>, 'QCD_HT700to1000_TuneCP5_13TeV-madgraphMLM-pythia8': <fnal_column_analysis_tools.processor.accumulator.accumulator object at 0x7fceb5a54470>, 'WplusH_HToCC_WToQQ_M125_13TeV_powheg_pythia8': <fnal_column_analysis_tools.processor.accumulator.accumulator object at 0x7fceb5a5dc50>, 'WJetsToLNu_HT-800To1200_TuneCP5_13TeV-madgraphMLM-pythia8': <fnal_column_analysis_tools.processor.accumulator.accumulator object at 0x7fceb5a5d1d0>, 'WminusH_HToBB_WToQQ_M125_13TeV_powheg_pythia8': <fnal_column_analysis_tools.processor.accumulator.accumulator object at 0x7fceb5a5d080>, 'ZH_HToCC_ZToLL_M125_13TeV_powheg_pythia8': <fnal_column_analysis_tools.processor.accumulator.accumulator object at 0x7fceb5a61080>, 'DYJetsToLL_M_50_HT_1200to2500_TuneCP5_13TeV': <fnal_column_analysis_tools.processor.accumulator.accumulator object at 0x7fceb5dccc50>, 'WJetsToLNu_HT-2500ToInf_TuneCP5_13TeV-madgraphMLM-pythia8': <fnal_column_analysis_tools.processor.accumulator.accumulator object at 0x7fceb5db6630>, 'DYJetsToLL_M_50_HT_400to600_TuneCP5_13TeV': <fnal_column_analysis_tools.processor.accumulator.accumulator object at 0x7fceb5a5d5c0>, 'QCD_HT500to700_TuneCP5_13TeV-madgraphMLM-pythia8': <fnal_column_analysis_tools.processor.accumulator.accumulator object at 0x7fceb5a545c0>, 'WJetsToLNu_HT-400To600_TuneCP5_13TeV-madgraphMLM-pythia8': <fnal_column_analysis_tools.processor.accumulator.accumulator object at 0x7fceb5a585c0>, 'ST_tW_antitop_5f_inclusiveDecays_TuneCP5_13TeV-powheg-pythia8': <fnal_column_analysis_tools.processor.accumulator.accumulator object at 0x7fceb5dccef0>, 'WminusH_HToCC_WToQQ_M125_13TeV_powheg_pythia8': <fnal_column_analysis_tools.processor.accumulator.accumulator object at 0x7fceb5a5dda0>, 'WminusH_HToCC_WToLNu_M125_13TeV_powheg_pythia8': <fnal_column_analysis_tools.processor.accumulator.accumulator object at 0x7fceb5a5d860>, 'WJetsToQQ_HT-800toInf_qc19_3j_TuneCP5_13TeV': <fnal_column_analysis_tools.processor.accumulator.accumulator object at 0x7fceb5a58da0>, 'ZH_HToBB_ZToQQ_M125_13TeV_powheg_pythia8': <fnal_column_analysis_tools.processor.accumulator.accumulator object at 0x7fceb5a58860>, 'ggZH_HToBB_ZToQQ_M125_13TeV_powheg_pythia8': <fnal_column_analysis_tools.processor.accumulator.accumulator object at 0x7fceb5a54c50>, 'ZJetsToQQ_HT-800toInf_qc19_4j_TuneCP5_13TeV': <fnal_column_analysis_tools.processor.accumulator.accumulator object at 0x7fceb5a581d0>, 'ZJetsToQQ_HT600to800_qc19_4j_TuneCP5_13TeV': <fnal_column_analysis_tools.processor.accumulator.accumulator object at 0x7fceb5a54b00>, 'ZJetsToQQ_HT400to600_qc19_4j_TuneCP5_13TeV': <fnal_column_analysis_tools.processor.accumulator.accumulator object at 0x7fceb5a5d710>}), ('sculpt_signalregion', <Hist (dataset,AK8Puppijet0_isHadronicV,AK8Puppijet0_pt,AK8Puppijet0_msd,AK8Puppijet0_deepdoubleb,AK8Puppijet0_deepdoublec,AK8Puppijet0_deepdoublecvb) instance at 0x7fceb5a28e48>), ('jetpt_preselection', <Hist (dataset,AK8Puppijet0_isHadronicV,AK8Puppijet0_pt) instance at 0x7fceb5a61208>), ('nminus1_antiak4btagMediumOppHem_signalregion', <Hist (dataset,AK8Puppijet0_isHadronicV,AK8Puppijet0_pt,AK8Puppijet0_msd,opposite_ak4_leadingDeepCSV) instance at 0x7fceb59e5c18>), ('nminus1_muonDphiAK8_muoncontrol', <Hist (dataset,AK8Puppijet0_isHadronicV,AK8Puppijet0_msd,AK8Puppijet0_deepdoubleb,muon_dphi) instance at 0x7fceb598c588>), ('nminus1_ak4btagMediumDR08_muoncontrol', <Hist (dataset,AK8Puppijet0_isHadronicV,AK8Puppijet0_msd,AK8Puppijet0_deepdoubleb,ak4_leadingDeepCSV_dR08) instance at 0x7fceb5a01f28>), ('muonpt_muoncontrol', <Hist (dataset,AK8Puppijet0_isHadronicV,vmuoLoose0_pt) instance at 0x7fceb5a85eb8>), ('jetpt_signalregion', <Hist (dataset,AK8Puppijet0_isHadronicV,AK8Puppijet0_pt) instance at 0x7fceb5a1cac8>), ('jetpt_muoncontrol', <Hist (dataset,AK8Puppijet0_isHadronicV,AK8Puppijet0_pt) instance at 0x7fceb5a7ab38>), ('njets_ak4_signalregion', <Hist (dataset,AK8Puppijet0_isHadronicV,AK8Puppijet0_pt,AK8Puppijet0_msd,nAK4PuppijetsPt30) instance at 0x7fceb59ddd68>), ('jeteta_preselection', <Hist (dataset,AK8Puppijet0_isHadronicV,AK8Puppijet0_eta) instance at 0x7fceb5a712e8>), ('templates_Wtagregion', <Hist (dataset,AK8Puppijet0_isHadronicV,systematic,AK8Puppijet0_pt,AK8Puppijet0_msd,ak8jet_n2ddt) instance at 0x7fcebca3d198>), ('opposite_ak8_n3sdb1_signalregion', <Hist (dataset,AK8Puppijet0_isHadronicV,AK8Puppijet0_pt,AK8Puppijet0_msd,opposite_ak8_n3sdb1) instance at 0x7fceb5a41b00>), ('templates_hCCmuoncontrol', <Hist (dataset,AK8Puppijet0_isHadronicV,systematic,AK8Puppijet0_pt,AK8Puppijet0_msd,AK8Puppijet0_deepdoublec) instance at 0x7fcebcd1b5c0>), ('templates_signalregion', <Hist (dataset,AK8Puppijet0_isHadronicV,systematic,AK8Puppijet0_pt,AK8Puppijet0_msd,AK8Puppijet0_deepdoubleb) instance at 0x7fcebca196d8>)])\n"
     ]
    }
   ],
   "source": [
    "print(hists_unmapped.items())"
   ]
  },
  {
   "cell_type": "code",
   "execution_count": 9,
   "metadata": {},
   "outputs": [
    {
     "name": "stdout",
     "output_type": "stream",
     "text": [
      "yay\n",
      "nminus1_n2ddtPass_signalregion\n",
      "<Hist (dataset,AK8Puppijet0_isHadronicV,AK8Puppijet0_msd,AK8Puppijet0_deepdoubleb,ak8jet_n2ddt) instance at 0x7fceb59f8978>\n",
      "<Cat (name=process) instance at 0x7fceb5a547b8>\n",
      "dataset\n",
      "odict_keys(['zll'])\n"
     ]
    },
    {
     "ename": "AttributeError",
     "evalue": "'Cat' object has no attribute '_sorted'",
     "output_type": "error",
     "traceback": [
      "\u001b[0;31m---------------------------------------------------------------------------\u001b[0m",
      "\u001b[0;31mAttributeError\u001b[0m                            Traceback (most recent call last)",
      "\u001b[0;32m<ipython-input-9-d22fc230be9c>\u001b[0m in \u001b[0;36m<module>\u001b[0;34m\u001b[0m\n\u001b[1;32m     20\u001b[0m         \u001b[0mprint\u001b[0m\u001b[0;34m(\u001b[0m\u001b[0mprocess_cat\u001b[0m\u001b[0;34m)\u001b[0m\u001b[0;34m\u001b[0m\u001b[0m\n\u001b[1;32m     21\u001b[0m         \u001b[0mprint\u001b[0m\u001b[0;34m(\u001b[0m\u001b[0mprocess_map\u001b[0m\u001b[0;34m.\u001b[0m\u001b[0mkeys\u001b[0m\u001b[0;34m(\u001b[0m\u001b[0;34m)\u001b[0m\u001b[0;34m)\u001b[0m\u001b[0;34m\u001b[0m\u001b[0m\n\u001b[0;32m---> 22\u001b[0;31m         \u001b[0mhists\u001b[0m\u001b[0;34m[\u001b[0m\u001b[0mkey\u001b[0m\u001b[0;34m]\u001b[0m \u001b[0;34m=\u001b[0m \u001b[0mval\u001b[0m\u001b[0;34m.\u001b[0m\u001b[0mgroup\u001b[0m\u001b[0;34m(\u001b[0m\u001b[0mprocess\u001b[0m\u001b[0;34m,\u001b[0m \u001b[0mprocess_cat\u001b[0m\u001b[0;34m,\u001b[0m \u001b[0mprocess_map\u001b[0m\u001b[0;34m)\u001b[0m\u001b[0;34m\u001b[0m\u001b[0m\n\u001b[0m",
      "\u001b[0;32m~/Research/SangeonPark/coffeandbacon/fnal-column-analysis-tools/fnal_column_analysis_tools/hist/hist_tools.py\u001b[0m in \u001b[0;36mgroup\u001b[0;34m(self, new_axis, old_axes, mapping, overflow)\u001b[0m\n\u001b[1;32m    823\u001b[0m             \u001b[0mfull_slice\u001b[0m \u001b[0;34m=\u001b[0m \u001b[0mtuple\u001b[0m\u001b[0;34m(\u001b[0m\u001b[0mfull_slice\u001b[0m\u001b[0;34m)\u001b[0m\u001b[0;34m\u001b[0m\u001b[0m\n\u001b[1;32m    824\u001b[0m             \u001b[0mreduced_hist\u001b[0m \u001b[0;34m=\u001b[0m \u001b[0mself\u001b[0m\u001b[0;34m[\u001b[0m\u001b[0mfull_slice\u001b[0m\u001b[0;34m]\u001b[0m\u001b[0;34m.\u001b[0m\u001b[0msum\u001b[0m\u001b[0;34m(\u001b[0m\u001b[0;34m*\u001b[0m\u001b[0mtuple\u001b[0m\u001b[0;34m(\u001b[0m\u001b[0max\u001b[0m\u001b[0;34m.\u001b[0m\u001b[0mname\u001b[0m \u001b[0;32mfor\u001b[0m \u001b[0max\u001b[0m \u001b[0;32min\u001b[0m \u001b[0mold_axes\u001b[0m\u001b[0;34m)\u001b[0m\u001b[0;34m,\u001b[0m \u001b[0moverflow\u001b[0m\u001b[0;34m=\u001b[0m\u001b[0moverflow\u001b[0m\u001b[0;34m)\u001b[0m  \u001b[0;31m# slice may change old axis binning\u001b[0m\u001b[0;34m\u001b[0m\u001b[0m\n\u001b[0;32m--> 825\u001b[0;31m             \u001b[0mnew_idx\u001b[0m \u001b[0;34m=\u001b[0m \u001b[0mnew_axis\u001b[0m\u001b[0;34m.\u001b[0m\u001b[0mindex\u001b[0m\u001b[0;34m(\u001b[0m\u001b[0mnew_cat\u001b[0m\u001b[0;34m)\u001b[0m\u001b[0;34m\u001b[0m\u001b[0m\n\u001b[0m\u001b[1;32m    826\u001b[0m             \u001b[0;32mfor\u001b[0m \u001b[0mkey\u001b[0m \u001b[0;32min\u001b[0m \u001b[0mreduced_hist\u001b[0m\u001b[0;34m.\u001b[0m\u001b[0m_sumw\u001b[0m\u001b[0;34m:\u001b[0m\u001b[0;34m\u001b[0m\u001b[0m\n\u001b[1;32m    827\u001b[0m                 \u001b[0mnew_key\u001b[0m \u001b[0;34m=\u001b[0m \u001b[0;34m(\u001b[0m\u001b[0mnew_idx\u001b[0m\u001b[0;34m,\u001b[0m\u001b[0;34m)\u001b[0m \u001b[0;34m+\u001b[0m \u001b[0mkey\u001b[0m\u001b[0;34m\u001b[0m\u001b[0m\n",
      "\u001b[0;32m~/Research/SangeonPark/coffeandbacon/fnal-column-analysis-tools/fnal_column_analysis_tools/hist/hist_tools.py\u001b[0m in \u001b[0;36m__getitem__\u001b[0;34m(self, keys)\u001b[0m\n\u001b[1;32m    668\u001b[0m             \u001b[0;32mif\u001b[0m \u001b[0misinstance\u001b[0m\u001b[0;34m(\u001b[0m\u001b[0max\u001b[0m\u001b[0;34m,\u001b[0m \u001b[0mSparseAxis\u001b[0m\u001b[0;34m)\u001b[0m\u001b[0;34m:\u001b[0m\u001b[0;34m\u001b[0m\u001b[0m\n\u001b[1;32m    669\u001b[0m                 \u001b[0msparse_idx\u001b[0m\u001b[0;34m.\u001b[0m\u001b[0mappend\u001b[0m\u001b[0;34m(\u001b[0m\u001b[0max\u001b[0m\u001b[0;34m.\u001b[0m\u001b[0m_ireduce\u001b[0m\u001b[0;34m(\u001b[0m\u001b[0ms\u001b[0m\u001b[0;34m)\u001b[0m\u001b[0;34m)\u001b[0m\u001b[0;34m\u001b[0m\u001b[0m\n\u001b[0;32m--> 670\u001b[0;31m                 \u001b[0mnew_dims\u001b[0m\u001b[0;34m.\u001b[0m\u001b[0mappend\u001b[0m\u001b[0;34m(\u001b[0m\u001b[0max\u001b[0m\u001b[0;34m)\u001b[0m\u001b[0;34m\u001b[0m\u001b[0m\n\u001b[0m\u001b[1;32m    671\u001b[0m             \u001b[0;32melse\u001b[0m\u001b[0;34m:\u001b[0m\u001b[0;34m\u001b[0m\u001b[0m\n\u001b[1;32m    672\u001b[0m                 \u001b[0mislice\u001b[0m \u001b[0;34m=\u001b[0m \u001b[0max\u001b[0m\u001b[0;34m.\u001b[0m\u001b[0m_ireduce\u001b[0m\u001b[0;34m(\u001b[0m\u001b[0ms\u001b[0m\u001b[0;34m)\u001b[0m\u001b[0;34m\u001b[0m\u001b[0m\n",
      "\u001b[0;32m~/Research/SangeonPark/coffeandbacon/fnal-column-analysis-tools/fnal_column_analysis_tools/hist/hist_tools.py\u001b[0m in \u001b[0;36m_ireduce\u001b[0;34m(self, the_slice)\u001b[0m\n\u001b[1;32m    292\u001b[0m         \u001b[0;32melif\u001b[0m \u001b[0misinstance\u001b[0m\u001b[0;34m(\u001b[0m\u001b[0mthe_slice\u001b[0m\u001b[0;34m,\u001b[0m \u001b[0mlist\u001b[0m\u001b[0;34m)\u001b[0m\u001b[0;34m:\u001b[0m\u001b[0;34m\u001b[0m\u001b[0m\n\u001b[1;32m    293\u001b[0m             \u001b[0;32mif\u001b[0m \u001b[0;32mnot\u001b[0m \u001b[0mall\u001b[0m\u001b[0;34m(\u001b[0m\u001b[0mk\u001b[0m \u001b[0;32min\u001b[0m \u001b[0mself\u001b[0m\u001b[0;34m.\u001b[0m\u001b[0m_sorted\u001b[0m \u001b[0;32mfor\u001b[0m \u001b[0mk\u001b[0m \u001b[0;32min\u001b[0m \u001b[0mthe_slice\u001b[0m\u001b[0;34m)\u001b[0m\u001b[0;34m:\u001b[0m\u001b[0;34m\u001b[0m\u001b[0m\n\u001b[0;32m--> 294\u001b[0;31m                 \u001b[0mwarnings\u001b[0m\u001b[0;34m.\u001b[0m\u001b[0mwarn\u001b[0m\u001b[0;34m(\u001b[0m\u001b[0;34m\"Not all requested indices present in %r\"\u001b[0m \u001b[0;34m%\u001b[0m \u001b[0mself\u001b[0m\u001b[0;34m,\u001b[0m \u001b[0mRuntimeWarning\u001b[0m\u001b[0;34m)\u001b[0m\u001b[0;34m\u001b[0m\u001b[0m\n\u001b[0m\u001b[1;32m    295\u001b[0m             \u001b[0mout\u001b[0m \u001b[0;34m=\u001b[0m \u001b[0;34m[\u001b[0m\u001b[0mk\u001b[0m \u001b[0;32mfor\u001b[0m \u001b[0mk\u001b[0m \u001b[0;32min\u001b[0m \u001b[0mself\u001b[0m\u001b[0;34m.\u001b[0m\u001b[0m_sorted\u001b[0m \u001b[0;32mif\u001b[0m \u001b[0mk\u001b[0m \u001b[0;32min\u001b[0m \u001b[0mthe_slice\u001b[0m\u001b[0;34m]\u001b[0m\u001b[0;34m\u001b[0m\u001b[0m\n\u001b[1;32m    296\u001b[0m         \u001b[0;32melif\u001b[0m \u001b[0misinstance\u001b[0m\u001b[0;34m(\u001b[0m\u001b[0mthe_slice\u001b[0m\u001b[0;34m,\u001b[0m \u001b[0mslice\u001b[0m\u001b[0;34m)\u001b[0m\u001b[0;34m:\u001b[0m\u001b[0;34m\u001b[0m\u001b[0m\n",
      "\u001b[0;32m~/Research/SangeonPark/coffeandbacon/fnal-column-analysis-tools/fnal_column_analysis_tools/hist/hist_tools.py\u001b[0m in \u001b[0;36m<genexpr>\u001b[0;34m(.0)\u001b[0m\n\u001b[1;32m    292\u001b[0m         \u001b[0;32melif\u001b[0m \u001b[0misinstance\u001b[0m\u001b[0;34m(\u001b[0m\u001b[0mthe_slice\u001b[0m\u001b[0;34m,\u001b[0m \u001b[0mlist\u001b[0m\u001b[0;34m)\u001b[0m\u001b[0;34m:\u001b[0m\u001b[0;34m\u001b[0m\u001b[0m\n\u001b[1;32m    293\u001b[0m             \u001b[0;32mif\u001b[0m \u001b[0;32mnot\u001b[0m \u001b[0mall\u001b[0m\u001b[0;34m(\u001b[0m\u001b[0mk\u001b[0m \u001b[0;32min\u001b[0m \u001b[0mself\u001b[0m\u001b[0;34m.\u001b[0m\u001b[0m_sorted\u001b[0m \u001b[0;32mfor\u001b[0m \u001b[0mk\u001b[0m \u001b[0;32min\u001b[0m \u001b[0mthe_slice\u001b[0m\u001b[0;34m)\u001b[0m\u001b[0;34m:\u001b[0m\u001b[0;34m\u001b[0m\u001b[0m\n\u001b[0;32m--> 294\u001b[0;31m                 \u001b[0mwarnings\u001b[0m\u001b[0;34m.\u001b[0m\u001b[0mwarn\u001b[0m\u001b[0;34m(\u001b[0m\u001b[0;34m\"Not all requested indices present in %r\"\u001b[0m \u001b[0;34m%\u001b[0m \u001b[0mself\u001b[0m\u001b[0;34m,\u001b[0m \u001b[0mRuntimeWarning\u001b[0m\u001b[0;34m)\u001b[0m\u001b[0;34m\u001b[0m\u001b[0m\n\u001b[0m\u001b[1;32m    295\u001b[0m             \u001b[0mout\u001b[0m \u001b[0;34m=\u001b[0m \u001b[0;34m[\u001b[0m\u001b[0mk\u001b[0m \u001b[0;32mfor\u001b[0m \u001b[0mk\u001b[0m \u001b[0;32min\u001b[0m \u001b[0mself\u001b[0m\u001b[0;34m.\u001b[0m\u001b[0m_sorted\u001b[0m \u001b[0;32mif\u001b[0m \u001b[0mk\u001b[0m \u001b[0;32min\u001b[0m \u001b[0mthe_slice\u001b[0m\u001b[0;34m]\u001b[0m\u001b[0;34m\u001b[0m\u001b[0m\n\u001b[1;32m    296\u001b[0m         \u001b[0;32melif\u001b[0m \u001b[0misinstance\u001b[0m\u001b[0;34m(\u001b[0m\u001b[0mthe_slice\u001b[0m\u001b[0;34m,\u001b[0m \u001b[0mslice\u001b[0m\u001b[0;34m)\u001b[0m\u001b[0;34m:\u001b[0m\u001b[0;34m\u001b[0m\u001b[0m\n",
      "\u001b[0;31mAttributeError\u001b[0m: 'Cat' object has no attribute '_sorted'"
     ]
    }
   ],
   "source": [
    "from collections import OrderedDict\n",
    "\n",
    "process = hist.Cat(\"process\", \"Process\", sorting='placement')\n",
    "process_cat = \"dataset\"\n",
    "process_map = OrderedDict()\n",
    "\n",
    "\n",
    "process_map[\"zll\"] = [\n",
    "    \"DYJetsToLL_M_50_HT_2500toInf_TuneCP5_13TeV\",\n",
    "    \"DYJetsToLL_M_50_HT_400to600_TuneCP5_13TeV\",\n",
    "\n",
    "]\n",
    "\n",
    "hists = {}\n",
    "for key, val in hists_unmapped.items():\n",
    "    if isinstance(val, hist.Hist):\n",
    "        print(key)\n",
    "        print(val)\n",
    "        print(process)\n",
    "        print(process_cat)\n",
    "        print(process_map.keys())\n",
    "        hists[key] = val.group(process, process_cat, process_map)"
   ]
  },
  {
   "cell_type": "code",
   "execution_count": null,
   "metadata": {},
   "outputs": [],
   "source": [
    "h = hists['templates_Wtagregion']"
   ]
  },
  {
   "cell_type": "code",
   "execution_count": null,
   "metadata": {},
   "outputs": [],
   "source": [
    "print(h)"
   ]
  },
  {
   "cell_type": "code",
   "execution_count": null,
   "metadata": {},
   "outputs": [],
   "source": [
    "print(h.identifiers('process'))"
   ]
  },
  {
   "cell_type": "code",
   "execution_count": null,
   "metadata": {},
   "outputs": [],
   "source": []
  }
 ],
 "metadata": {
  "kernelspec": {
   "display_name": "Python 3",
   "language": "python",
   "name": "python3"
  },
  "language_info": {
   "codemirror_mode": {
    "name": "ipython",
    "version": 3
   },
   "file_extension": ".py",
   "mimetype": "text/x-python",
   "name": "python",
   "nbconvert_exporter": "python",
   "pygments_lexer": "ipython3",
   "version": "3.5.2"
  }
 },
 "nbformat": 4,
 "nbformat_minor": 2
}
